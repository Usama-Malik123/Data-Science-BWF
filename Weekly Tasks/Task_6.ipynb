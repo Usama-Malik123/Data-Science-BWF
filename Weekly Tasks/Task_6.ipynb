{
  "nbformat": 4,
  "nbformat_minor": 0,
  "metadata": {
    "colab": {
      "provenance": []
    },
    "kernelspec": {
      "name": "python3",
      "display_name": "Python 3"
    },
    "language_info": {
      "name": "python"
    }
  },
  "cells": [
    {
      "cell_type": "code",
      "execution_count": 1,
      "metadata": {
        "colab": {
          "base_uri": "https://localhost:8080/"
        },
        "id": "EPWWjLKA-YXI",
        "outputId": "1e7a9239-5efa-457f-bb12-9c6002ce0bb4"
      },
      "outputs": [
        {
          "output_type": "stream",
          "name": "stdout",
          "text": [
            "The Food Place\n",
            "Italian\n",
            "Restaurant Name: The Food Place\n",
            "Cuisine Type: Italian\n",
            "The Food Place is now open!\n"
          ]
        }
      ],
      "source": [
        "class Restaurant:\n",
        "    def __init__(self, restaurant_name, cuisine_type):\n",
        "        self.restaurant_name = restaurant_name\n",
        "        self.cuisine_type = cuisine_type\n",
        "\n",
        "    def describe_restaurant(self):\n",
        "        print(f\"Restaurant Name: {self.restaurant_name}\")\n",
        "        print(f\"Cuisine Type: {self.cuisine_type}\")\n",
        "\n",
        "    def open_restaurant(self):\n",
        "        print(f\"{self.restaurant_name} is now open!\")\n",
        "\n",
        "# Create an instance\n",
        "restaurant = Restaurant(\"The Food Place\", \"Italian\")\n",
        "\n",
        "# Print the attributes individually\n",
        "print(restaurant.restaurant_name)\n",
        "print(restaurant.cuisine_type)\n",
        "\n",
        "# Call the methods\n",
        "restaurant.describe_restaurant()\n",
        "restaurant.open_restaurant()\n"
      ]
    },
    {
      "cell_type": "code",
      "source": [
        "# Create three instances\n",
        "restaurant1 = Restaurant(\"The Pizza Corner\", \"Italian\")\n",
        "restaurant2 = Restaurant(\"Sushi World\", \"Japanese\")\n",
        "restaurant3 = Restaurant(\"Spice Hub\", \"Indian\")\n",
        "\n",
        "# Call describe_restaurant() for each instance\n",
        "restaurant1.describe_restaurant()\n",
        "restaurant2.describe_restaurant()\n",
        "restaurant3.describe_restaurant()\n"
      ],
      "metadata": {
        "colab": {
          "base_uri": "https://localhost:8080/"
        },
        "id": "dXJPmQYp-zg0",
        "outputId": "8406e82b-c8d6-4faf-fe89-650819ffd2d9"
      },
      "execution_count": 2,
      "outputs": [
        {
          "output_type": "stream",
          "name": "stdout",
          "text": [
            "Restaurant Name: The Pizza Corner\n",
            "Cuisine Type: Italian\n",
            "Restaurant Name: Sushi World\n",
            "Cuisine Type: Japanese\n",
            "Restaurant Name: Spice Hub\n",
            "Cuisine Type: Indian\n"
          ]
        }
      ]
    },
    {
      "cell_type": "code",
      "source": [
        "class User:\n",
        "    def __init__(self, first_name, last_name, age, email):\n",
        "        self.first_name = first_name\n",
        "        self.last_name = last_name\n",
        "        self.age = age\n",
        "        self.email = email\n",
        "        self.login_attempts = 0\n",
        "\n",
        "    def describe_user(self):\n",
        "        print(f\"User Information:\")\n",
        "        print(f\"First Name: {self.first_name}\")\n",
        "        print(f\"Last Name: {self.last_name}\")\n",
        "        print(f\"Age: {self.age}\")\n",
        "        print(f\"Email: {self.email}\")\n",
        "\n",
        "    def greet_user(self):\n",
        "        print(f\"Hello, {self.first_name} {self.last_name}! Welcome back!\")\n",
        "\n",
        "    def increment_login_attempts(self):\n",
        "        self.login_attempts += 1\n",
        "\n",
        "    def reset_login_attempts(self):\n",
        "        self.login_attempts = 0\n",
        "\n",
        "# Create an instance of the User class\n",
        "user = User(\"John\", \"Doe\", 30, \"john.doe@example.com\")\n",
        "\n",
        "# Increment login_attempts several times\n",
        "user.increment_login_attempts()\n",
        "user.increment_login_attempts()\n",
        "user.increment_login_attempts()\n",
        "\n",
        "# Print the value of login_attempts to ensure it was incremented properly\n",
        "print(f\"Login Attempts: {user.login_attempts}\")\n",
        "\n",
        "# Reset login_attempts\n",
        "user.reset_login_attempts()\n",
        "\n",
        "# Print login_attempts again to ensure it was reset to 0\n",
        "print(f\"Login Attempts after reset: {user.login_attempts}\")\n"
      ],
      "metadata": {
        "colab": {
          "base_uri": "https://localhost:8080/"
        },
        "id": "VCzvfERB_a4p",
        "outputId": "0512818b-18ef-4321-9ac3-e48fdc8f3ab0"
      },
      "execution_count": 4,
      "outputs": [
        {
          "output_type": "stream",
          "name": "stdout",
          "text": [
            "Login Attempts: 3\n",
            "Login Attempts after reset: 0\n"
          ]
        }
      ]
    },
    {
      "cell_type": "code",
      "source": [
        "# Prompt the user for their name\n",
        "name = input(\"Please enter your name: \")\n",
        "\n",
        "# Write the name to guest.txt\n",
        "with open('guest.txt', 'w') as file:\n",
        "    file.write(name)\n",
        "\n",
        "print(f\"Hello, {name}! Your name has been recorded in guest.txt.\")\n"
      ],
      "metadata": {
        "colab": {
          "base_uri": "https://localhost:8080/"
        },
        "id": "5R_9JHKdAU94",
        "outputId": "b14f4de9-ab52-49d8-fb3d-d126c6029e6b"
      },
      "execution_count": 5,
      "outputs": [
        {
          "output_type": "stream",
          "name": "stdout",
          "text": [
            "Please enter your name: usama\n",
            "Hello, usama! Your name has been recorded in guest.txt.\n"
          ]
        }
      ]
    },
    {
      "cell_type": "code",
      "source": [
        "# Open guest_book.txt in append mode\n",
        "with open('guest_book.txt', 'a') as guest_book:\n",
        "    while True:\n",
        "        # Prompt the user for their name\n",
        "        name = input(\"Please enter your name (or type 'quit' to exit): \")\n",
        "\n",
        "        # Break the loop if the user wants to quit\n",
        "        if name.lower() == 'quit':\n",
        "            break\n",
        "\n",
        "        # Print a greeting to the screen\n",
        "        print(f\"Hello, {name}! Welcome!\")\n",
        "\n",
        "        # Record the visit in guest_book.txt\n",
        "        guest_book.write(f\"{name} visited.\\n\")\n",
        "\n",
        "print(\"Guest book has been updated. Thank you!\")\n"
      ],
      "metadata": {
        "colab": {
          "base_uri": "https://localhost:8080/"
        },
        "id": "DWz1m2NAAa9h",
        "outputId": "2f2d275f-141a-46da-a6b7-a76339dd84f6"
      },
      "execution_count": 6,
      "outputs": [
        {
          "output_type": "stream",
          "name": "stdout",
          "text": [
            "Please enter your name (or type 'quit' to exit): usama\n",
            "Hello, usama! Welcome!\n",
            "Please enter your name (or type 'quit' to exit): quit\n",
            "Guest book has been updated. Thank you!\n"
          ]
        }
      ]
    },
    {
      "cell_type": "code",
      "source": [
        "# employee.py\n",
        "\n",
        "class Employee:\n",
        "    def __init__(self, first_name, last_name, annual_salary):\n",
        "        self.first_name = first_name\n",
        "        self.last_name = last_name\n",
        "        self.annual_salary = annual_salary\n",
        "\n",
        "    def give_raise(self, amount=5000):\n",
        "        self.annual_salary += amount\n"
      ],
      "metadata": {
        "id": "5JPq2EavA5-9"
      },
      "execution_count": 9,
      "outputs": []
    },
    {
      "cell_type": "code",
      "source": [
        "# test_employee.py\n",
        "\n",
        "import unittest\n",
        "from employee import Employee\n",
        "\n",
        "class TestEmployee(unittest.TestCase):\n",
        "    def setUp(self):\n",
        "        \"\"\"Create an employee instance for use in all test methods.\"\"\"\n",
        "        self.employee = Employee('John', 'Doe', 50000)\n",
        "\n",
        "    def test_give_default_raise(self):\n",
        "        \"\"\"Test that the default raise increases the salary by $5000.\"\"\"\n",
        "        self.employee.give_raise()\n",
        "        self.assertEqual(self.employee.annual_salary, 55000)\n",
        "\n",
        "    def test_give_custom_raise(self):\n",
        "        \"\"\"Test that a custom raise amount increases the salary correctly.\"\"\"\n",
        "        self.employee.give_raise(10000)\n",
        "        self.assertEqual(self.employee.annual_salary, 60000)\n",
        "\n",
        "if __name__ == '__main__':\n",
        "    unittest.main()\n"
      ],
      "metadata": {
        "id": "coTGQ7gvBIp0"
      },
      "execution_count": null,
      "outputs": []
    }
  ]
}