{
  "nbformat": 4,
  "nbformat_minor": 0,
  "metadata": {
    "colab": {
      "provenance": []
    },
    "kernelspec": {
      "name": "python3",
      "display_name": "Python 3"
    },
    "language_info": {
      "name": "python"
    }
  },
  "cells": [
    {
      "cell_type": "code",
      "execution_count": 1,
      "metadata": {
        "id": "RucT2LOJhYZY"
      },
      "outputs": [],
      "source": [
        "class Student:\n",
        "    def __init__(self, student_id, name, age):\n",
        "        self.student_id = student_id\n",
        "        self.name = name\n",
        "        self.age = age\n",
        "        self.grades = []\n",
        "\n",
        "    def add_grade(self, grade):\n",
        "        self.grades.append(grade)\n",
        "\n",
        "    def __str__(self):\n",
        "        return f\"Student[ID={self.student_id}, Name={self.name}, Age={self.age}, Grades={self.grades}]\"\n"
      ]
    },
    {
      "cell_type": "code",
      "source": [
        "class Grade:\n",
        "    def __init__(self):\n",
        "        self.grades = []\n",
        "\n",
        "    def add_grade(self, grade):\n",
        "        self.grades.append(grade)\n",
        "\n",
        "    def mean(self):\n",
        "        return sum(self.grades) / len(self.grades) if self.grades else 0\n",
        "\n",
        "    def median(self):\n",
        "        sorted_grades = sorted(self.grades)\n",
        "        n = len(sorted_grades)\n",
        "        if n == 0:\n",
        "            return 0\n",
        "        if n % 2 == 1:\n",
        "            return sorted_grades[n // 2]\n",
        "        else:\n",
        "            mid1, mid2 = sorted_grades[n // 2 - 1], sorted_grades[n // 2]\n",
        "            return (mid1 + mid2) / 2\n",
        "\n",
        "    def mode(self):\n",
        "        from collections import Counter\n",
        "        if not self.grades:\n",
        "            return 0\n",
        "        count = Counter(self.grades)\n",
        "        max_count = max(count.values())\n",
        "        mode_grades = [grade for grade, freq in count.items() if freq == max_count]\n",
        "        return mode_grades if len(mode_grades) > 1 else mode_grades[0]\n",
        "\n",
        "    def __str__(self):\n",
        "        return f\"Grades: {self.grades}\"\n"
      ],
      "metadata": {
        "id": "JD56Y2jsiq-O"
      },
      "execution_count": 2,
      "outputs": []
    },
    {
      "cell_type": "code",
      "source": [
        "def main():\n",
        "    students = {}\n",
        "    grades = Grade()\n",
        "\n",
        "    while True:\n",
        "        print(\"\\nStudent Performance Tracker\")\n",
        "        print(\"1. Add Student\")\n",
        "        print(\"2. Add Grade\")\n",
        "        print(\"3. Display Student Information\")\n",
        "        print(\"4. Display Grade Statistics\")\n",
        "        print(\"5. Exit\")\n",
        "        choice = input(\"Enter your choice: \")\n",
        "\n",
        "        if choice == '1':\n",
        "            student_id = input(\"Enter student ID: \")\n",
        "            name = input(\"Enter student name: \")\n",
        "            age = int(input(\"Enter student age: \"))\n",
        "            student = Student(student_id, name, age)\n",
        "            students[student_id] = student\n",
        "            print(\"Student added successfully.\")\n",
        "\n",
        "        elif choice == '2':\n",
        "            student_id = input(\"Enter student ID: \")\n",
        "            if student_id in students:\n",
        "                grade = float(input(\"Enter grade: \"))\n",
        "                students[student_id].add_grade(grade)\n",
        "                grades.add_grade(grade)\n",
        "                print(\"Grade added successfully.\")\n",
        "            else:\n",
        "                print(\"Student not found.\")\n",
        "\n",
        "        elif choice == '3':\n",
        "            student_id = input(\"Enter student ID: \")\n",
        "            if student_id in students:\n",
        "                print(students[student_id])\n",
        "            else:\n",
        "                print(\"Student not found.\")\n",
        "\n",
        "        elif choice == '4':\n",
        "            print(f\"Mean: {grades.mean()}\")\n",
        "            print(f\"Median: {grades.median()}\")\n",
        "            print(f\"Mode: {grades.mode()}\")\n",
        "\n",
        "        elif choice == '5':\n",
        "            print(\"Exiting the program.\")\n",
        "            break\n",
        "\n",
        "        else:\n",
        "            print(\"Invalid choice. Please try again.\")\n",
        "\n",
        "if __name__ == \"__main__\":\n",
        "    main()\n"
      ],
      "metadata": {
        "colab": {
          "base_uri": "https://localhost:8080/"
        },
        "id": "RDtPgZ3Li0fL",
        "outputId": "37cc59c6-c955-4c2e-f0cd-0c69b2715802"
      },
      "execution_count": 3,
      "outputs": [
        {
          "output_type": "stream",
          "name": "stdout",
          "text": [
            "\n",
            "Student Performance Tracker\n",
            "1. Add Student\n",
            "2. Add Grade\n",
            "3. Display Student Information\n",
            "4. Display Grade Statistics\n",
            "5. Exit\n",
            "Enter your choice: 1\n",
            "Enter student ID: 22\n",
            "Enter student name: usama\n",
            "Enter student age: 55\n",
            "Student added successfully.\n",
            "\n",
            "Student Performance Tracker\n",
            "1. Add Student\n",
            "2. Add Grade\n",
            "3. Display Student Information\n",
            "4. Display Grade Statistics\n",
            "5. Exit\n",
            "Enter your choice: 5\n",
            "Exiting the program.\n"
          ]
        }
      ]
    }
  ]
}